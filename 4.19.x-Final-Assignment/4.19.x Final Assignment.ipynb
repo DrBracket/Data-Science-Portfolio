{
 "cells": [
  {
   "cell_type": "markdown",
   "id": "fced9a7c-bf3f-478c-9860-5d24a88b172b",
   "metadata": {},
   "source": [
    "# 4.19.x Final Assignment"
   ]
  },
  {
   "cell_type": "code",
   "execution_count": 1,
   "id": "734a815f-7e3e-4032-9721-eb5409fbc523",
   "metadata": {},
   "outputs": [],
   "source": [
    "import numpy as np\n",
    "import pandas as pd\n",
    "\n",
    "import matplotlib.pyplot as plt\n",
    "import seaborn as sns\n",
    "sns.set_theme()\n",
    "sns.set(rc={'figure.figsize':(15, 9)})\n",
    "sns.set(font_scale=1.5) "
   ]
  },
  {
   "cell_type": "markdown",
   "id": "7b2d5563-e2df-4934-b313-c15a3fc6e6d2",
   "metadata": {},
   "source": [
    "### Part 1\n",
    "\n",
    "The `food_consumption.csv` dataset from the `food` folder contains data on the several countries' food consumption per food category and their respective CO2 emissions. Load it to a DataFrame named `food` and check its contents."
   ]
  },
  {
   "cell_type": "code",
   "execution_count": 2,
   "id": "dfd5da95-6fdd-4f31-acb8-9c6e1a424df7",
   "metadata": {},
   "outputs": [
    {
     "data": {
      "text/html": [
       "<div>\n",
       "<style scoped>\n",
       "    .dataframe tbody tr th:only-of-type {\n",
       "        vertical-align: middle;\n",
       "    }\n",
       "\n",
       "    .dataframe tbody tr th {\n",
       "        vertical-align: top;\n",
       "    }\n",
       "\n",
       "    .dataframe thead th {\n",
       "        text-align: right;\n",
       "    }\n",
       "</style>\n",
       "<table border=\"1\" class=\"dataframe\">\n",
       "  <thead>\n",
       "    <tr style=\"text-align: right;\">\n",
       "      <th></th>\n",
       "      <th>country</th>\n",
       "      <th>food_category</th>\n",
       "      <th>consumption</th>\n",
       "      <th>co2_emission</th>\n",
       "    </tr>\n",
       "  </thead>\n",
       "  <tbody>\n",
       "    <tr>\n",
       "      <th>0</th>\n",
       "      <td>Argentina</td>\n",
       "      <td>pork</td>\n",
       "      <td>10.51</td>\n",
       "      <td>37.20</td>\n",
       "    </tr>\n",
       "    <tr>\n",
       "      <th>1</th>\n",
       "      <td>Argentina</td>\n",
       "      <td>poultry</td>\n",
       "      <td>38.66</td>\n",
       "      <td>41.53</td>\n",
       "    </tr>\n",
       "    <tr>\n",
       "      <th>2</th>\n",
       "      <td>Argentina</td>\n",
       "      <td>beef</td>\n",
       "      <td>55.48</td>\n",
       "      <td>1712.00</td>\n",
       "    </tr>\n",
       "    <tr>\n",
       "      <th>3</th>\n",
       "      <td>Argentina</td>\n",
       "      <td>lamb_goat</td>\n",
       "      <td>1.56</td>\n",
       "      <td>54.63</td>\n",
       "    </tr>\n",
       "    <tr>\n",
       "      <th>4</th>\n",
       "      <td>Argentina</td>\n",
       "      <td>fish</td>\n",
       "      <td>4.36</td>\n",
       "      <td>6.96</td>\n",
       "    </tr>\n",
       "    <tr>\n",
       "      <th>...</th>\n",
       "      <td>...</td>\n",
       "      <td>...</td>\n",
       "      <td>...</td>\n",
       "      <td>...</td>\n",
       "    </tr>\n",
       "    <tr>\n",
       "      <th>1425</th>\n",
       "      <td>Bangladesh</td>\n",
       "      <td>dairy</td>\n",
       "      <td>21.91</td>\n",
       "      <td>31.21</td>\n",
       "    </tr>\n",
       "    <tr>\n",
       "      <th>1426</th>\n",
       "      <td>Bangladesh</td>\n",
       "      <td>wheat</td>\n",
       "      <td>17.47</td>\n",
       "      <td>3.33</td>\n",
       "    </tr>\n",
       "    <tr>\n",
       "      <th>1427</th>\n",
       "      <td>Bangladesh</td>\n",
       "      <td>rice</td>\n",
       "      <td>171.73</td>\n",
       "      <td>219.76</td>\n",
       "    </tr>\n",
       "    <tr>\n",
       "      <th>1428</th>\n",
       "      <td>Bangladesh</td>\n",
       "      <td>soybeans</td>\n",
       "      <td>0.61</td>\n",
       "      <td>0.27</td>\n",
       "    </tr>\n",
       "    <tr>\n",
       "      <th>1429</th>\n",
       "      <td>Bangladesh</td>\n",
       "      <td>nuts</td>\n",
       "      <td>0.72</td>\n",
       "      <td>1.27</td>\n",
       "    </tr>\n",
       "  </tbody>\n",
       "</table>\n",
       "<p>1430 rows × 4 columns</p>\n",
       "</div>"
      ],
      "text/plain": [
       "         country food_category  consumption  co2_emission\n",
       "0      Argentina          pork        10.51         37.20\n",
       "1      Argentina       poultry        38.66         41.53\n",
       "2      Argentina          beef        55.48       1712.00\n",
       "3      Argentina     lamb_goat         1.56         54.63\n",
       "4      Argentina          fish         4.36          6.96\n",
       "...          ...           ...          ...           ...\n",
       "1425  Bangladesh         dairy        21.91         31.21\n",
       "1426  Bangladesh         wheat        17.47          3.33\n",
       "1427  Bangladesh          rice       171.73        219.76\n",
       "1428  Bangladesh      soybeans         0.61          0.27\n",
       "1429  Bangladesh          nuts         0.72          1.27\n",
       "\n",
       "[1430 rows x 4 columns]"
      ]
     },
     "execution_count": 2,
     "metadata": {},
     "output_type": "execute_result"
    }
   ],
   "source": [
    "food = pd.read_csv(\"data/food_consumption.csv\")\n",
    "food"
   ]
  },
  {
   "cell_type": "markdown",
   "id": "472b304f-f6f4-4a5b-a662-71e0250b2cce",
   "metadata": {},
   "source": [
    "1. Use the `.describe()` method on the `food` DataFrame to produce descriptive statistics about the `consumption` metric for each class in the `food_category` variable. **Which `food_category` has the highest median value of `food_consumption`?** "
   ]
  },
  {
   "cell_type": "code",
   "execution_count": 3,
   "id": "2e8dad5d-eff2-4aea-8ee6-8013d526cc48",
   "metadata": {},
   "outputs": [
    {
     "data": {
      "text/plain": [
       "food_category\n",
       "dairy    110.975\n",
       "Name: (consumption, 50%), dtype: float64"
      ]
     },
     "execution_count": 3,
     "metadata": {},
     "output_type": "execute_result"
    }
   ],
   "source": [
    "food.groupby('food_category').describe()[['consumption']]['consumption','50%'].sort_values(ascending=False).head(1)"
   ]
  },
  {
   "cell_type": "markdown",
   "id": "78301ce2-ff86-4065-b681-3f08468dca5a",
   "metadata": {},
   "source": [
    "2. In a single chart, plot one boxplot for each `food_category` (11 in total) using the variable `co2_emission` as the metric. **By looking at the chart, which `food_category` has the highest interquartile range (IQR)?**"
   ]
  },
  {
   "cell_type": "code",
   "execution_count": 4,
   "id": "0f42d7f9-ccdc-4206-b4e4-b7e6748a65a7",
   "metadata": {},
   "outputs": [
    {
     "data": {
      "text/plain": [
       "<AxesSubplot:xlabel='co2_emission', ylabel='food_category'>"
      ]
     },
     "execution_count": 4,
     "metadata": {},
     "output_type": "execute_result"
    },
    {
     "data": {
      "image/png": "[encoded data removed]",
      "text/plain": [
       "<Figure size 1080x648 with 1 Axes>"
      ]
     },
     "metadata": {},
     "output_type": "display_data"
    }
   ],
   "source": [
    "sns.boxplot(x = 'co2_emission', y = 'food_category', data = food, fliersize=3, linewidth=1)"
   ]
  },
  {
   "cell_type": "code",
   "execution_count": 5,
   "id": "ec4fd198",
   "metadata": {},
   "outputs": [
    {
     "name": "stdout",
     "output_type": "stream",
     "text": [
      "IQR of pork is: 92.52\n",
      "IQR of poultry is: 20.230000000000004\n",
      "IQR of beef is: 399.37749999999994\n",
      "IQR of lamb_goat is: 89.03750000000001\n",
      "IQR of fish is: 25.27\n",
      "IQR of eggs is: 7.6850000000000005\n",
      "IQR of dairy is: 209.2725\n",
      "IQR of wheat is: 12.645000000000001\n",
      "IQR of rice is: 49.55\n",
      "IQR of soybeans is: 0.29\n",
      "IQR of nuts is: 6.734999999999999\n",
      "__________________________________________\n",
      "The food category that has the highest IQR is beef with: 399.37749999999994\n"
     ]
    }
   ],
   "source": [
    "food_cat = food[\"food_category\"].unique()\n",
    "iqrs = {}\n",
    "for val in food_cat:\n",
    "    food_categ = food[food[\"food_category\"] == val][\"co2_emission\"]\n",
    "    q1, q3 = np.percentile(food_categ, [25, 75])\n",
    "    iqr_range = q3 - q1\n",
    "    print(f\"IQR of {val} is: {iqr_range}\")\n",
    "    iqrs[val] = iqr_range\n",
    "print(\"__________________________________________\")\n",
    "print(f\"The food category that has the highest IQR is {max(iqrs, key=iqrs.get)} with: {max(iqrs.values())}\")"
   ]
  },
  {
   "cell_type": "markdown",
   "id": "50a7f9f2-6fe9-4707-a734-7dc1d9b010f9",
   "metadata": {},
   "source": [
    "3. Looking at the chart from the previous question, which is the `food_category` with the highest median `co2_emission` value? "
   ]
  },
  {
   "cell_type": "code",
   "execution_count": 6,
   "id": "b0a27598-6e5d-437e-a879-15a86197bd4c",
   "metadata": {},
   "outputs": [
    {
     "name": "stdout",
     "output_type": "stream",
     "text": [
      "Median of pork is: 36.650000000000006\n",
      "Median of poultry is: 21.325\n",
      "Median of beef is: 255.655\n",
      "Median of lamb_goat is: 46.405\n",
      "Median of fish is: 22.27\n",
      "Median of eggs is: 7.734999999999999\n",
      "Median of dairy is: 158.075\n",
      "Median of wheat is: 13.24\n",
      "Median of rice is: 15.2\n",
      "Median of soybeans is: 0.035\n",
      "Median of nuts is: 6.1850000000000005\n",
      "__________________________________________\n",
      "The food category that has the highest median of co2_emission value is beef with: 255.655\n"
     ]
    }
   ],
   "source": [
    "food_cat = food[\"food_category\"].unique()\n",
    "medians = {}\n",
    "for val in food_cat:\n",
    "    food_categ = food[food[\"food_category\"] == val][\"co2_emission\"]\n",
    "    median = np.median(food_categ)\n",
    "    print(f\"Median of {val} is: {median}\")\n",
    "    medians[val] = median\n",
    "print(\"__________________________________________\")\n",
    "print(f\"The food category that has the highest median of co2_emission value is {max(medians, key=medians.get)} with: {max(medians.values())}\")\n",
    "    "
   ]
  },
  {
   "cell_type": "markdown",
   "id": "bccd7696-498d-4220-89ff-2154275d2469",
   "metadata": {},
   "source": [
    "4. Consider the `consumption` of \"poultry\" and \"fish\" across all available `countries`; looking at the table from question 1, the average of poultry consumption (21.22) seems to be higher than that of fish consumption (17.29), but is this difference statistically significant? Create a permutation test in order to assess the null hypothesis that there is no difference between the two means. **Do you accept or reject the null hypothesis?** Explain why. "
   ]
  },
  {
   "cell_type": "markdown",
   "id": "186f41ef",
   "metadata": {},
   "source": [
    "$$\\begin{gather}        \n",
    "H_0: \\mu \\text{ consumption}_{poultry}\n",
    "= \\mu \\text{ consumption}_{fish} \n",
    "\\\\        \n",
    "H_1: \\mu \\text{ consumption}_{poultry}\n",
    "\\ne \\mu \\text{ consumption}_{fish}\n",
    "\\end{gather}$$"
   ]
  },
  {
   "cell_type": "code",
   "execution_count": 7,
   "id": "159f3cd2-90f7-4eb9-a85b-263341415ba1",
   "metadata": {},
   "outputs": [
    {
     "data": {
      "text/html": [
       "<div>\n",
       "<style scoped>\n",
       "    .dataframe tbody tr th:only-of-type {\n",
       "        vertical-align: middle;\n",
       "    }\n",
       "\n",
       "    .dataframe tbody tr th {\n",
       "        vertical-align: top;\n",
       "    }\n",
       "\n",
       "    .dataframe thead th {\n",
       "        text-align: right;\n",
       "    }\n",
       "</style>\n",
       "<table border=\"1\" class=\"dataframe\">\n",
       "  <thead>\n",
       "    <tr style=\"text-align: right;\">\n",
       "      <th></th>\n",
       "      <th>food_category</th>\n",
       "      <th>consumption</th>\n",
       "    </tr>\n",
       "  </thead>\n",
       "  <tbody>\n",
       "    <tr>\n",
       "      <th>0</th>\n",
       "      <td>fish</td>\n",
       "      <td>4.36</td>\n",
       "    </tr>\n",
       "    <tr>\n",
       "      <th>1</th>\n",
       "      <td>fish</td>\n",
       "      <td>17.69</td>\n",
       "    </tr>\n",
       "    <tr>\n",
       "      <th>2</th>\n",
       "      <td>fish</td>\n",
       "      <td>3.85</td>\n",
       "    </tr>\n",
       "    <tr>\n",
       "      <th>3</th>\n",
       "      <td>fish</td>\n",
       "      <td>74.41</td>\n",
       "    </tr>\n",
       "    <tr>\n",
       "      <th>4</th>\n",
       "      <td>fish</td>\n",
       "      <td>20.36</td>\n",
       "    </tr>\n",
       "    <tr>\n",
       "      <th>...</th>\n",
       "      <td>...</td>\n",
       "      <td>...</td>\n",
       "    </tr>\n",
       "    <tr>\n",
       "      <th>255</th>\n",
       "      <td>poultry</td>\n",
       "      <td>4.97</td>\n",
       "    </tr>\n",
       "    <tr>\n",
       "      <th>256</th>\n",
       "      <td>poultry</td>\n",
       "      <td>4.96</td>\n",
       "    </tr>\n",
       "    <tr>\n",
       "      <th>257</th>\n",
       "      <td>poultry</td>\n",
       "      <td>7.50</td>\n",
       "    </tr>\n",
       "    <tr>\n",
       "      <th>258</th>\n",
       "      <td>poultry</td>\n",
       "      <td>8.91</td>\n",
       "    </tr>\n",
       "    <tr>\n",
       "      <th>259</th>\n",
       "      <td>poultry</td>\n",
       "      <td>1.40</td>\n",
       "    </tr>\n",
       "  </tbody>\n",
       "</table>\n",
       "<p>260 rows × 2 columns</p>\n",
       "</div>"
      ],
      "text/plain": [
       "    food_category  consumption\n",
       "0            fish         4.36\n",
       "1            fish        17.69\n",
       "2            fish         3.85\n",
       "3            fish        74.41\n",
       "4            fish        20.36\n",
       "..            ...          ...\n",
       "255       poultry         4.97\n",
       "256       poultry         4.96\n",
       "257       poultry         7.50\n",
       "258       poultry         8.91\n",
       "259       poultry         1.40\n",
       "\n",
       "[260 rows x 2 columns]"
      ]
     },
     "execution_count": 7,
     "metadata": {},
     "output_type": "execute_result"
    }
   ],
   "source": [
    "poultry_cons = food[food[\"food_category\"] == \"poultry\"][[\"food_category\", \"consumption\"]]\n",
    "fish_cons = food[food[\"food_category\"] == \"fish\"][[\"food_category\", \"consumption\"]]\n",
    "\n",
    "permutation_df = pd.concat([fish_cons, poultry_cons])\n",
    "permutation_df.reset_index(drop=True)"
   ]
  },
  {
   "cell_type": "code",
   "execution_count": 8,
   "id": "9e1e59ac",
   "metadata": {},
   "outputs": [
    {
     "name": "stdout",
     "output_type": "stream",
     "text": [
      "Observed test statistic:  3.93\n"
     ]
    },
    {
     "name": "stderr",
     "output_type": "stream",
     "text": [
      "D:\\Programmi\\anaconda3\\lib\\site-packages\\numpy\\core\\fromnumeric.py:3438: FutureWarning: In a future version, DataFrame.mean(axis=None) will return a scalar mean over the entire DataFrame. To retain the old behavior, use 'frame.mean(axis=0)' or just 'frame.mean()'\n",
      "  return mean(axis=axis, dtype=dtype, out=out, **kwargs)\n",
      "D:\\Programmi\\anaconda3\\lib\\site-packages\\numpy\\core\\fromnumeric.py:3438: FutureWarning: Dropping of nuisance columns in DataFrame reductions (with 'numeric_only=None') is deprecated; in a future version this will raise TypeError.  Select only valid columns before calling the reduction.\n",
      "  return mean(axis=axis, dtype=dtype, out=out, **kwargs)\n"
     ]
    }
   ],
   "source": [
    "mu_poultry = float(round(np.mean(poultry_cons), 2))\n",
    "mu_fish = float(round(np.mean(fish_cons), 2))\n",
    "mu_diff = mu_poultry - mu_fish\n",
    "\n",
    "print(\"Observed test statistic: \", round(mu_diff, 2))"
   ]
  },
  {
   "cell_type": "code",
   "execution_count": 9,
   "id": "ba0b77e7",
   "metadata": {},
   "outputs": [],
   "source": [
    "n = 20000\n",
    "mu_diff_samples = []\n",
    "for i in range(n): \n",
    "    # extract a subsample of 50% of data without replacement\n",
    "    df_sample1 = permutation_df.sample(frac=0.5, replace=False)\n",
    "    # use set() to get indexes of rows that were not extracted from df in previous step\n",
    "    ix2 = set(permutation_df.index) - set(df_sample1.index)\n",
    "    # create dataframe with other 50% of data\n",
    "    df_sample2 = permutation_df.loc[list(ix2)]\n",
    "    # calculate difference in mean from each sample\n",
    "    mu_diff_temp = np.mean(df_sample1['consumption']) - np.mean(df_sample2['consumption'])\n",
    "    # append sampled mean difference to mu_diff_samples list\n",
    "    mu_diff_samples.append(mu_diff_temp)"
   ]
  },
  {
   "cell_type": "code",
   "execution_count": 10,
   "id": "22843c0f",
   "metadata": {},
   "outputs": [
    {
     "data": {
      "image/png": "[encoded data removed]",
      "text/plain": [
       "<Figure size 1080x648 with 1 Axes>"
      ]
     },
     "metadata": {},
     "output_type": "display_data"
    }
   ],
   "source": [
    "sns.histplot(mu_diff_samples)\n",
    "plt.axvline(mu_diff, 0, 1, color='r', linestyle='--')\n",
    "plt.show()"
   ]
  },
  {
   "cell_type": "code",
   "execution_count": 11,
   "id": "399ca33a",
   "metadata": {},
   "outputs": [
    {
     "name": "stdout",
     "output_type": "stream",
     "text": [
      "Results more extreme than observed: 595\n",
      "Total results: 20000\n",
      "p-value: 595 / 20000 = 0.02975\n"
     ]
    }
   ],
   "source": [
    "print('Results more extreme than observed:', sum([el >= mu_diff for el in mu_diff_samples]))\n",
    "print('Total results:', len(mu_diff_samples))\n",
    "\n",
    "p_value = sum([el > mu_diff for el in mu_diff_samples])/n\n",
    "print('p-value:', sum([el >= mu_diff for el in mu_diff_samples]), '/', len(mu_diff_samples), '=', p_value)"
   ]
  },
  {
   "cell_type": "code",
   "execution_count": 12,
   "id": "57d8aa5a",
   "metadata": {},
   "outputs": [
    {
     "name": "stdout",
     "output_type": "stream",
     "text": [
      "H0 rejected: the observed result is statistically significant | p-value <= alpha\n"
     ]
    }
   ],
   "source": [
    "alpha = 0.05\n",
    "\n",
    "if p_value <= alpha: \n",
    "    print('H0 rejected: the observed result is statistically significant | p-value <= alpha')\n",
    "else: \n",
    "    print('H0 accepted | the observed result is not statistically significant | p-value > alpha')"
   ]
  },
  {
   "cell_type": "markdown",
   "id": "50a931e6-69cd-4aeb-9106-af5490fcb6a4",
   "metadata": {},
   "source": [
    "#### Conclusions"
   ]
  },
  {
   "cell_type": "markdown",
   "id": "68f568f2-29ee-4afe-8637-418c8c33e8f7",
   "metadata": {},
   "source": [
    "Assuming that, there is no difference between the average consumption of poultry and fish, using a significance level of 5%, the calculated p-value (simulated test statistic under null hypothesis) there is a possibility of **2.9%** of obtaining extreme values at least as much as the actual observed result, and therefore observing a difference between the two averages."
   ]
  },
  {
   "cell_type": "markdown",
   "id": "5ba56ad5-8304-4744-94ed-620fad6c23a5",
   "metadata": {},
   "source": [
    "### Part 2\n",
    "\n",
    "The `world_happiness.csv` dataset from the `data` folder contains a series of variables that can be used as a proxy to a country's evaluation of its own goodness of life. The `happiness_score` metric tries to summarise how \"happy\" each country is. Load and save the dataset to a DataFrame object named `happy`. As always, familiarise yourself with its contents. "
   ]
  },
  {
   "cell_type": "code",
   "execution_count": 13,
   "id": "45c7adcb-eac7-4e21-8987-e177d3b6436c",
   "metadata": {},
   "outputs": [
    {
     "data": {
      "text/html": [
       "<div>\n",
       "<style scoped>\n",
       "    .dataframe tbody tr th:only-of-type {\n",
       "        vertical-align: middle;\n",
       "    }\n",
       "\n",
       "    .dataframe tbody tr th {\n",
       "        vertical-align: top;\n",
       "    }\n",
       "\n",
       "    .dataframe thead th {\n",
       "        text-align: right;\n",
       "    }\n",
       "</style>\n",
       "<table border=\"1\" class=\"dataframe\">\n",
       "  <thead>\n",
       "    <tr style=\"text-align: right;\">\n",
       "      <th></th>\n",
       "      <th>country</th>\n",
       "      <th>social_support</th>\n",
       "      <th>freedom</th>\n",
       "      <th>corruption</th>\n",
       "      <th>generosity</th>\n",
       "      <th>gdp_per_cap</th>\n",
       "      <th>life_exp</th>\n",
       "      <th>happiness_score</th>\n",
       "    </tr>\n",
       "  </thead>\n",
       "  <tbody>\n",
       "    <tr>\n",
       "      <th>0</th>\n",
       "      <td>Finland</td>\n",
       "      <td>2.0</td>\n",
       "      <td>5.0</td>\n",
       "      <td>4.0</td>\n",
       "      <td>47.0</td>\n",
       "      <td>42400</td>\n",
       "      <td>81.8</td>\n",
       "      <td>155</td>\n",
       "    </tr>\n",
       "    <tr>\n",
       "      <th>1</th>\n",
       "      <td>Denmark</td>\n",
       "      <td>4.0</td>\n",
       "      <td>6.0</td>\n",
       "      <td>3.0</td>\n",
       "      <td>22.0</td>\n",
       "      <td>48300</td>\n",
       "      <td>81.0</td>\n",
       "      <td>154</td>\n",
       "    </tr>\n",
       "    <tr>\n",
       "      <th>2</th>\n",
       "      <td>Norway</td>\n",
       "      <td>3.0</td>\n",
       "      <td>3.0</td>\n",
       "      <td>8.0</td>\n",
       "      <td>11.0</td>\n",
       "      <td>66300</td>\n",
       "      <td>82.6</td>\n",
       "      <td>153</td>\n",
       "    </tr>\n",
       "    <tr>\n",
       "      <th>3</th>\n",
       "      <td>Iceland</td>\n",
       "      <td>1.0</td>\n",
       "      <td>7.0</td>\n",
       "      <td>45.0</td>\n",
       "      <td>3.0</td>\n",
       "      <td>47900</td>\n",
       "      <td>83.0</td>\n",
       "      <td>152</td>\n",
       "    </tr>\n",
       "    <tr>\n",
       "      <th>4</th>\n",
       "      <td>Netherlands</td>\n",
       "      <td>15.0</td>\n",
       "      <td>19.0</td>\n",
       "      <td>12.0</td>\n",
       "      <td>7.0</td>\n",
       "      <td>50500</td>\n",
       "      <td>81.8</td>\n",
       "      <td>151</td>\n",
       "    </tr>\n",
       "    <tr>\n",
       "      <th>...</th>\n",
       "      <td>...</td>\n",
       "      <td>...</td>\n",
       "      <td>...</td>\n",
       "      <td>...</td>\n",
       "      <td>...</td>\n",
       "      <td>...</td>\n",
       "      <td>...</td>\n",
       "      <td>...</td>\n",
       "    </tr>\n",
       "    <tr>\n",
       "      <th>138</th>\n",
       "      <td>Rwanda</td>\n",
       "      <td>144.0</td>\n",
       "      <td>21.0</td>\n",
       "      <td>2.0</td>\n",
       "      <td>90.0</td>\n",
       "      <td>2110</td>\n",
       "      <td>69.1</td>\n",
       "      <td>4</td>\n",
       "    </tr>\n",
       "    <tr>\n",
       "      <th>139</th>\n",
       "      <td>Tanzania</td>\n",
       "      <td>131.0</td>\n",
       "      <td>78.0</td>\n",
       "      <td>34.0</td>\n",
       "      <td>49.0</td>\n",
       "      <td>2980</td>\n",
       "      <td>67.7</td>\n",
       "      <td>3</td>\n",
       "    </tr>\n",
       "    <tr>\n",
       "      <th>140</th>\n",
       "      <td>Afghanistan</td>\n",
       "      <td>151.0</td>\n",
       "      <td>155.0</td>\n",
       "      <td>136.0</td>\n",
       "      <td>137.0</td>\n",
       "      <td>1760</td>\n",
       "      <td>64.1</td>\n",
       "      <td>2</td>\n",
       "    </tr>\n",
       "    <tr>\n",
       "      <th>141</th>\n",
       "      <td>Central African Republic</td>\n",
       "      <td>155.0</td>\n",
       "      <td>133.0</td>\n",
       "      <td>122.0</td>\n",
       "      <td>113.0</td>\n",
       "      <td>794</td>\n",
       "      <td>52.9</td>\n",
       "      <td>1</td>\n",
       "    </tr>\n",
       "    <tr>\n",
       "      <th>142</th>\n",
       "      <td>South Sudan</td>\n",
       "      <td>148.0</td>\n",
       "      <td>154.0</td>\n",
       "      <td>61.0</td>\n",
       "      <td>85.0</td>\n",
       "      <td>1860</td>\n",
       "      <td>59.7</td>\n",
       "      <td>0</td>\n",
       "    </tr>\n",
       "  </tbody>\n",
       "</table>\n",
       "<p>143 rows × 8 columns</p>\n",
       "</div>"
      ],
      "text/plain": [
       "                      country  social_support  freedom  corruption  \\\n",
       "0                     Finland             2.0      5.0         4.0   \n",
       "1                     Denmark             4.0      6.0         3.0   \n",
       "2                      Norway             3.0      3.0         8.0   \n",
       "3                     Iceland             1.0      7.0        45.0   \n",
       "4                 Netherlands            15.0     19.0        12.0   \n",
       "..                        ...             ...      ...         ...   \n",
       "138                    Rwanda           144.0     21.0         2.0   \n",
       "139                  Tanzania           131.0     78.0        34.0   \n",
       "140               Afghanistan           151.0    155.0       136.0   \n",
       "141  Central African Republic           155.0    133.0       122.0   \n",
       "142               South Sudan           148.0    154.0        61.0   \n",
       "\n",
       "     generosity  gdp_per_cap  life_exp  happiness_score  \n",
       "0          47.0        42400      81.8              155  \n",
       "1          22.0        48300      81.0              154  \n",
       "2          11.0        66300      82.6              153  \n",
       "3           3.0        47900      83.0              152  \n",
       "4           7.0        50500      81.8              151  \n",
       "..          ...          ...       ...              ...  \n",
       "138        90.0         2110      69.1                4  \n",
       "139        49.0         2980      67.7                3  \n",
       "140       137.0         1760      64.1                2  \n",
       "141       113.0          794      52.9                1  \n",
       "142        85.0         1860      59.7                0  \n",
       "\n",
       "[143 rows x 8 columns]"
      ]
     },
     "execution_count": 13,
     "metadata": {},
     "output_type": "execute_result"
    }
   ],
   "source": [
    "happy = pd.read_csv(\"data/world_happiness.csv\")\n",
    "happy"
   ]
  },
  {
   "cell_type": "markdown",
   "id": "2e8a9bb6-9d7a-412b-8d19-a4adbf7c63c4",
   "metadata": {},
   "source": [
    "5. Using a histogram, plot the distribution of the `happiness_score` variable, **which distribution does it resemble?** *(in the answer sheet write the [name of the distribution](https://miro.medium.com/max/962/1*DmPUIjvecL7KllOamoFSDw.png) that best fits the data)* "
   ]
  },
  {
   "cell_type": "code",
   "execution_count": 14,
   "id": "9272de88-212e-47ac-9fce-86aaa88c2f14",
   "metadata": {},
   "outputs": [
    {
     "data": {
      "image/png": "[encoded data removed]",
      "text/plain": [
       "<Figure size 1080x648 with 1 Axes>"
      ]
     },
     "metadata": {},
     "output_type": "display_data"
    }
   ],
   "source": [
    "plt.hist(happy[\"happiness_score\"], bins=30)\n",
    "plt.show()"
   ]
  },
  {
   "cell_type": "markdown",
   "id": "cf499487-473b-48f6-84d4-2df98f1cda1f",
   "metadata": {},
   "source": [
    "6. Plot a correlation matrix (or a correlation heatmap) between all the numeric variables in the dataset. **Which variable is the least correlated with the `happiness_score` metric?** "
   ]
  },
  {
   "cell_type": "code",
   "execution_count": 15,
   "id": "3e409b51",
   "metadata": {},
   "outputs": [
    {
     "data": {
      "text/html": [
       "<div>\n",
       "<style scoped>\n",
       "    .dataframe tbody tr th:only-of-type {\n",
       "        vertical-align: middle;\n",
       "    }\n",
       "\n",
       "    .dataframe tbody tr th {\n",
       "        vertical-align: top;\n",
       "    }\n",
       "\n",
       "    .dataframe thead th {\n",
       "        text-align: right;\n",
       "    }\n",
       "</style>\n",
       "<table border=\"1\" class=\"dataframe\">\n",
       "  <thead>\n",
       "    <tr style=\"text-align: right;\">\n",
       "      <th></th>\n",
       "      <th>social_support</th>\n",
       "      <th>freedom</th>\n",
       "      <th>corruption</th>\n",
       "      <th>generosity</th>\n",
       "      <th>gdp_per_cap</th>\n",
       "      <th>life_exp</th>\n",
       "      <th>happiness_score</th>\n",
       "    </tr>\n",
       "  </thead>\n",
       "  <tbody>\n",
       "    <tr>\n",
       "      <th>social_support</th>\n",
       "      <td>1.000000</td>\n",
       "      <td>0.470893</td>\n",
       "      <td>0.154848</td>\n",
       "      <td>0.449225</td>\n",
       "      <td>-0.687268</td>\n",
       "      <td>-0.705512</td>\n",
       "      <td>-0.824702</td>\n",
       "    </tr>\n",
       "    <tr>\n",
       "      <th>freedom</th>\n",
       "      <td>0.470893</td>\n",
       "      <td>1.000000</td>\n",
       "      <td>0.387234</td>\n",
       "      <td>0.493207</td>\n",
       "      <td>-0.444420</td>\n",
       "      <td>-0.388856</td>\n",
       "      <td>-0.567582</td>\n",
       "    </tr>\n",
       "    <tr>\n",
       "      <th>corruption</th>\n",
       "      <td>0.154848</td>\n",
       "      <td>0.387234</td>\n",
       "      <td>1.000000</td>\n",
       "      <td>0.305043</td>\n",
       "      <td>-0.335716</td>\n",
       "      <td>-0.135665</td>\n",
       "      <td>-0.215308</td>\n",
       "    </tr>\n",
       "    <tr>\n",
       "      <th>generosity</th>\n",
       "      <td>0.449225</td>\n",
       "      <td>0.493207</td>\n",
       "      <td>0.305043</td>\n",
       "      <td>1.000000</td>\n",
       "      <td>-0.531636</td>\n",
       "      <td>-0.433144</td>\n",
       "      <td>-0.499259</td>\n",
       "    </tr>\n",
       "    <tr>\n",
       "      <th>gdp_per_cap</th>\n",
       "      <td>-0.687268</td>\n",
       "      <td>-0.444420</td>\n",
       "      <td>-0.335716</td>\n",
       "      <td>-0.531636</td>\n",
       "      <td>1.000000</td>\n",
       "      <td>0.701955</td>\n",
       "      <td>0.727973</td>\n",
       "    </tr>\n",
       "    <tr>\n",
       "      <th>life_exp</th>\n",
       "      <td>-0.705512</td>\n",
       "      <td>-0.388856</td>\n",
       "      <td>-0.135665</td>\n",
       "      <td>-0.433144</td>\n",
       "      <td>0.701955</td>\n",
       "      <td>1.000000</td>\n",
       "      <td>0.780225</td>\n",
       "    </tr>\n",
       "    <tr>\n",
       "      <th>happiness_score</th>\n",
       "      <td>-0.824702</td>\n",
       "      <td>-0.567582</td>\n",
       "      <td>-0.215308</td>\n",
       "      <td>-0.499259</td>\n",
       "      <td>0.727973</td>\n",
       "      <td>0.780225</td>\n",
       "      <td>1.000000</td>\n",
       "    </tr>\n",
       "  </tbody>\n",
       "</table>\n",
       "</div>"
      ],
      "text/plain": [
       "                 social_support   freedom  corruption  generosity  \\\n",
       "social_support         1.000000  0.470893    0.154848    0.449225   \n",
       "freedom                0.470893  1.000000    0.387234    0.493207   \n",
       "corruption             0.154848  0.387234    1.000000    0.305043   \n",
       "generosity             0.449225  0.493207    0.305043    1.000000   \n",
       "gdp_per_cap           -0.687268 -0.444420   -0.335716   -0.531636   \n",
       "life_exp              -0.705512 -0.388856   -0.135665   -0.433144   \n",
       "happiness_score       -0.824702 -0.567582   -0.215308   -0.499259   \n",
       "\n",
       "                 gdp_per_cap  life_exp  happiness_score  \n",
       "social_support     -0.687268 -0.705512        -0.824702  \n",
       "freedom            -0.444420 -0.388856        -0.567582  \n",
       "corruption         -0.335716 -0.135665        -0.215308  \n",
       "generosity         -0.531636 -0.433144        -0.499259  \n",
       "gdp_per_cap         1.000000  0.701955         0.727973  \n",
       "life_exp            0.701955  1.000000         0.780225  \n",
       "happiness_score     0.727973  0.780225         1.000000  "
      ]
     },
     "execution_count": 15,
     "metadata": {},
     "output_type": "execute_result"
    }
   ],
   "source": [
    "happy.corr()"
   ]
  },
  {
   "cell_type": "code",
   "execution_count": 16,
   "id": "80217c3b-7920-4b2d-bf89-68b96d0d62d1",
   "metadata": {},
   "outputs": [
    {
     "data": {
      "text/plain": [
       "<AxesSubplot:>"
      ]
     },
     "execution_count": 16,
     "metadata": {},
     "output_type": "execute_result"
    },
    {
     "data": {
      "image/png": "[encoded data removed]",
      "text/plain": [
       "<Figure size 1080x648 with 2 Axes>"
      ]
     },
     "metadata": {},
     "output_type": "display_data"
    }
   ],
   "source": [
    "sns.heatmap(happy.corr(), annot=True)"
   ]
  },
  {
   "cell_type": "markdown",
   "id": "210a4db8-5d37-418e-a795-1d23de00c3c6",
   "metadata": {},
   "source": [
    "7. You may have noticed that the `corruption` metric has some missing values. **How many countries have a missing corruption value?** After you've answered the question, replace all missing values *in all columns of the DataFrame* with the *respective column's mean value*. "
   ]
  },
  {
   "cell_type": "code",
   "execution_count": 17,
   "id": "30a78e52-215b-4620-a8a1-a53976af51da",
   "metadata": {},
   "outputs": [
    {
     "data": {
      "text/html": [
       "<div>\n",
       "<style scoped>\n",
       "    .dataframe tbody tr th:only-of-type {\n",
       "        vertical-align: middle;\n",
       "    }\n",
       "\n",
       "    .dataframe tbody tr th {\n",
       "        vertical-align: top;\n",
       "    }\n",
       "\n",
       "    .dataframe thead th {\n",
       "        text-align: right;\n",
       "    }\n",
       "</style>\n",
       "<table border=\"1\" class=\"dataframe\">\n",
       "  <thead>\n",
       "    <tr style=\"text-align: right;\">\n",
       "      <th></th>\n",
       "      <th>country</th>\n",
       "      <th>social_support</th>\n",
       "      <th>freedom</th>\n",
       "      <th>corruption</th>\n",
       "      <th>generosity</th>\n",
       "      <th>gdp_per_cap</th>\n",
       "      <th>life_exp</th>\n",
       "      <th>happiness_score</th>\n",
       "    </tr>\n",
       "  </thead>\n",
       "  <tbody>\n",
       "    <tr>\n",
       "      <th>20</th>\n",
       "      <td>United Arab Emirates</td>\n",
       "      <td>72.0</td>\n",
       "      <td>4.0</td>\n",
       "      <td>NaN</td>\n",
       "      <td>15.0</td>\n",
       "      <td>65700</td>\n",
       "      <td>73.6</td>\n",
       "      <td>135</td>\n",
       "    </tr>\n",
       "    <tr>\n",
       "      <th>26</th>\n",
       "      <td>Saudi Arabia</td>\n",
       "      <td>62.0</td>\n",
       "      <td>68.0</td>\n",
       "      <td>NaN</td>\n",
       "      <td>82.0</td>\n",
       "      <td>48100</td>\n",
       "      <td>77.1</td>\n",
       "      <td>128</td>\n",
       "    </tr>\n",
       "    <tr>\n",
       "      <th>27</th>\n",
       "      <td>Qatar</td>\n",
       "      <td>NaN</td>\n",
       "      <td>NaN</td>\n",
       "      <td>NaN</td>\n",
       "      <td>NaN</td>\n",
       "      <td>113000</td>\n",
       "      <td>80.5</td>\n",
       "      <td>127</td>\n",
       "    </tr>\n",
       "    <tr>\n",
       "      <th>35</th>\n",
       "      <td>Bahrain</td>\n",
       "      <td>59.0</td>\n",
       "      <td>24.0</td>\n",
       "      <td>NaN</td>\n",
       "      <td>23.0</td>\n",
       "      <td>42000</td>\n",
       "      <td>79.8</td>\n",
       "      <td>119</td>\n",
       "    </tr>\n",
       "    <tr>\n",
       "      <th>47</th>\n",
       "      <td>Kuwait</td>\n",
       "      <td>69.0</td>\n",
       "      <td>47.0</td>\n",
       "      <td>NaN</td>\n",
       "      <td>42.0</td>\n",
       "      <td>64100</td>\n",
       "      <td>83.3</td>\n",
       "      <td>105</td>\n",
       "    </tr>\n",
       "    <tr>\n",
       "      <th>78</th>\n",
       "      <td>Turkmenistan</td>\n",
       "      <td>8.0</td>\n",
       "      <td>83.0</td>\n",
       "      <td>NaN</td>\n",
       "      <td>33.0</td>\n",
       "      <td>17600</td>\n",
       "      <td>70.3</td>\n",
       "      <td>69</td>\n",
       "    </tr>\n",
       "    <tr>\n",
       "      <th>84</th>\n",
       "      <td>China</td>\n",
       "      <td>108.0</td>\n",
       "      <td>31.0</td>\n",
       "      <td>NaN</td>\n",
       "      <td>133.0</td>\n",
       "      <td>17100</td>\n",
       "      <td>77.5</td>\n",
       "      <td>63</td>\n",
       "    </tr>\n",
       "    <tr>\n",
       "      <th>91</th>\n",
       "      <td>Jordan</td>\n",
       "      <td>88.0</td>\n",
       "      <td>88.0</td>\n",
       "      <td>NaN</td>\n",
       "      <td>118.0</td>\n",
       "      <td>8350</td>\n",
       "      <td>79.6</td>\n",
       "      <td>55</td>\n",
       "    </tr>\n",
       "  </tbody>\n",
       "</table>\n",
       "</div>"
      ],
      "text/plain": [
       "                 country  social_support  freedom  corruption  generosity  \\\n",
       "20  United Arab Emirates            72.0      4.0         NaN        15.0   \n",
       "26          Saudi Arabia            62.0     68.0         NaN        82.0   \n",
       "27                 Qatar             NaN      NaN         NaN         NaN   \n",
       "35               Bahrain            59.0     24.0         NaN        23.0   \n",
       "47                Kuwait            69.0     47.0         NaN        42.0   \n",
       "78          Turkmenistan             8.0     83.0         NaN        33.0   \n",
       "84                 China           108.0     31.0         NaN       133.0   \n",
       "91                Jordan            88.0     88.0         NaN       118.0   \n",
       "\n",
       "    gdp_per_cap  life_exp  happiness_score  \n",
       "20        65700      73.6              135  \n",
       "26        48100      77.1              128  \n",
       "27       113000      80.5              127  \n",
       "35        42000      79.8              119  \n",
       "47        64100      83.3              105  \n",
       "78        17600      70.3               69  \n",
       "84        17100      77.5               63  \n",
       "91         8350      79.6               55  "
      ]
     },
     "execution_count": 17,
     "metadata": {},
     "output_type": "execute_result"
    }
   ],
   "source": [
    "happy[happy[\"corruption\"].isnull()]"
   ]
  },
  {
   "cell_type": "code",
   "execution_count": 18,
   "id": "d166ab60",
   "metadata": {},
   "outputs": [
    {
     "name": "stdout",
     "output_type": "stream",
     "text": [
      "<class 'pandas.core.frame.DataFrame'>\n",
      "RangeIndex: 143 entries, 0 to 142\n",
      "Data columns (total 8 columns):\n",
      " #   Column           Non-Null Count  Dtype  \n",
      "---  ------           --------------  -----  \n",
      " 0   country          143 non-null    object \n",
      " 1   social_support   143 non-null    float64\n",
      " 2   freedom          143 non-null    float64\n",
      " 3   corruption       143 non-null    float64\n",
      " 4   generosity       143 non-null    float64\n",
      " 5   gdp_per_cap      143 non-null    int64  \n",
      " 6   life_exp         143 non-null    float64\n",
      " 7   happiness_score  143 non-null    int64  \n",
      "dtypes: float64(5), int64(2), object(1)\n",
      "memory usage: 9.1+ KB\n"
     ]
    }
   ],
   "source": [
    "for col in happy.columns:\n",
    "    if col != \"country\":\n",
    "        happy[col].fillna((happy[col].mean()), inplace=True)\n",
    "    else:\n",
    "        pass\n",
    "        \n",
    "happy.info()"
   ]
  },
  {
   "cell_type": "markdown",
   "id": "62a6d5a1-6adf-4f66-bd9d-911a0e07c85a",
   "metadata": {},
   "source": [
    "8. Use the `statsmodel` package to create a linear regression model where you use `life_exp` to predict the `happiness_score`. After [refreshing your memory on how to interpret a regression coefficient](https://statisticsbyjim.com/regression/interpret-coefficients-p-values-regression/#:~:text=The%20coefficient%20value%20signifies%20how,in%20isolation%20from%20the%20others.), answer the following question: given the model you just created, **a 1-year increase in life expectancy corresponds to an increase of how many points of the happiness score variable?**. "
   ]
  },
  {
   "cell_type": "code",
   "execution_count": 19,
   "id": "ca56ac75-45f0-4dee-9ab4-638cf7b30914",
   "metadata": {},
   "outputs": [
    {
     "data": {
      "image/png": "[encoded data removed]",
      "text/plain": [
       "<Figure size 720x504 with 1 Axes>"
      ]
     },
     "metadata": {},
     "output_type": "display_data"
    }
   ],
   "source": [
    "sns.set(rc={'figure.figsize':(10, 7)})\n",
    "sns.scatterplot(x='life_exp', y='happiness_score', data=happy)\n",
    "plt.show()"
   ]
  },
  {
   "cell_type": "code",
   "execution_count": 20,
   "id": "50a7d958-0796-48e4-a8fd-d9caeb7632b1",
   "metadata": {},
   "outputs": [],
   "source": [
    "import statsmodels.api as sm\n",
    "\n",
    "Y = happy['happiness_score']\n",
    "X = happy['life_exp']\n",
    "X = sm.add_constant(data=X) \n",
    "\n",
    "model = sm.OLS(endog=Y,exog=X) # definiamo il modello\n",
    "results = model.fit() # stimiamo la retta di regressione"
   ]
  },
  {
   "cell_type": "code",
   "execution_count": 21,
   "id": "f2253157-a899-48c5-91ec-6085541fb19c",
   "metadata": {},
   "outputs": [
    {
     "name": "stdout",
     "output_type": "stream",
     "text": [
      "Intercept: -298.871\n",
      "Slope: 5.1021\n"
     ]
    }
   ],
   "source": [
    "results_as_html = results.summary().tables[1].as_html()\n",
    "results_df = pd.read_html(results_as_html, header=0, index_col=0)[0]\n",
    "\n",
    "intercept, slope = results_df['coef'][0], results_df['coef'][1]\n",
    "print('Intercept:', intercept)\n",
    "print('Slope:', slope)"
   ]
  },
  {
   "cell_type": "code",
   "execution_count": 33,
   "id": "9a3dd00a-a370-45e1-8706-3866550369f3",
   "metadata": {},
   "outputs": [
    {
     "data": {
      "image/png": "[encoded data removed]",
      "text/plain": [
       "<Figure size 720x504 with 1 Axes>"
      ]
     },
     "metadata": {},
     "output_type": "display_data"
    }
   ],
   "source": [
    "#Mostriamo la retta di regressione\n",
    "sns.set(rc={'figure.figsize':(10, 7)})\n",
    "sns.scatterplot(x='life_exp', y='happiness_score', data=happy)\n",
    "\n",
    "axes = plt.gca()\n",
    "x_vals = np.array(axes.get_xlim())\n",
    "y_vals = intercept + (slope * x_vals)   # eq of the regression line\n",
    "\n",
    "plt.plot(x_vals, y_vals, '--', color='r')     # draw regression line on scatterplot\n",
    "plt.show()"
   ]
  },
  {
   "cell_type": "markdown",
   "id": "a01d068a-c8aa-4598-ad65-c81f714ebd7e",
   "metadata": {},
   "source": [
    "$$       \n",
    "\\text{happiness_score} = -298.871 + 5.1021 \\times \\text{life_exp} \\\\\n",
    "\\text{happiness_score} + 298.871 = 5.1021 \\times \\text{life_exp}\n",
    "$$"
   ]
  },
  {
   "cell_type": "code",
   "execution_count": 23,
   "id": "74b94d41-11a4-4d17-b685-97628f26d04d",
   "metadata": {},
   "outputs": [
    {
     "data": {
      "text/plain": [
       "5.102"
      ]
     },
     "execution_count": 23,
     "metadata": {},
     "output_type": "execute_result"
    }
   ],
   "source": [
    "round(abs(results.predict(np.array([1, 1]))[0]) - abs(results.predict(np.array([1, 2]))[0]), 3)"
   ]
  },
  {
   "cell_type": "code",
   "execution_count": 24,
   "id": "b4520e18-c96f-4455-911b-ff758d7c2d77",
   "metadata": {},
   "outputs": [
    {
     "data": {
      "image/png": "[encoded data removed]",
      "text/plain": [
       "<Figure size 1152x720 with 1 Axes>"
      ]
     },
     "metadata": {},
     "output_type": "display_data"
    }
   ],
   "source": [
    "sns.set(rc={'figure.figsize':(16, 10)})\n",
    "sns.scatterplot(x='life_exp', y='happiness_score', data=happy)\n",
    "\n",
    "\n",
    "# calculate some predictions\n",
    "plt.plot(1, results.predict(np.array([1, 1]))[0], 'ro')\n",
    "plt.plot(30, results.predict(np.array([1, 30]))[0], 'ro')\n",
    "plt.plot(60, results.predict(np.array([1, 60]))[0], 'ro')\n",
    "plt.plot(75, results.predict(np.array([1, 75]))[0], 'ro')\n",
    "\n",
    "axes = plt.gca()\n",
    "\n",
    "x_vals = np.array(axes.get_xlim())\n",
    "y_vals = intercept + (slope * x_vals)\n",
    "plt.plot(x_vals, y_vals, '--', color='r')\n",
    "plt.show()"
   ]
  },
  {
   "cell_type": "markdown",
   "id": "1c567dad-9583-4731-aafb-2e887d461403",
   "metadata": {},
   "source": [
    "9. Split the dataset in `train` and `test` sets, leaving 33% of the data in the latter. Then, using the `sklearn` package, train a linear regression model where you try to predict the `happiness_score` using the following set of predictors: `['social_support', 'freedom', 'generosity', 'life_exp']` *(use a `random_state=42`)*. Calculate the R-squared on the train set and compare it with the R-squared based on the test set. **Would you say that the model is overfitting the training data?** Motivate your answer. "
   ]
  },
  {
   "cell_type": "code",
   "execution_count": 25,
   "id": "da6efaca-d950-479d-8748-0d9b777a92e9",
   "metadata": {},
   "outputs": [
    {
     "data": {
      "text/plain": [
       "happiness_score    1.000000\n",
       "social_support    -0.821384\n",
       "freedom           -0.565298\n",
       "generosity        -0.497250\n",
       "life_exp           0.780225\n",
       "Name: happiness_score, dtype: float64"
      ]
     },
     "execution_count": 25,
     "metadata": {},
     "output_type": "execute_result"
    }
   ],
   "source": [
    "happy.corr()['happiness_score'].sort_values(ascending=False)[['happiness_score','social_support', 'freedom', 'generosity', 'life_exp']]"
   ]
  },
  {
   "cell_type": "code",
   "execution_count": 26,
   "id": "2c9ae202-84f5-4fdf-a247-499b811616d0",
   "metadata": {},
   "outputs": [],
   "source": [
    "from sklearn.model_selection import train_test_split\n",
    "y = happy['happiness_score']\n",
    "X = happy[['social_support', 'freedom', 'generosity', 'life_exp']]\n",
    "X = sm.add_constant(X)\n",
    "\n",
    "X_train, X_test, y_train, y_test = train_test_split(X, y, test_size=0.33, random_state=42)"
   ]
  },
  {
   "cell_type": "code",
   "execution_count": 27,
   "id": "263d00d8-f58c-4931-9cf1-79afe4bfc092",
   "metadata": {},
   "outputs": [
    {
     "data": {
      "text/html": [
       "<table class=\"simpletable\">\n",
       "<caption>OLS Regression Results</caption>\n",
       "<tr>\n",
       "  <th>Dep. Variable:</th>     <td>happiness_score</td> <th>  R-squared:         </th> <td>   0.785</td>\n",
       "</tr>\n",
       "<tr>\n",
       "  <th>Model:</th>                   <td>OLS</td>       <th>  Adj. R-squared:    </th> <td>   0.775</td>\n",
       "</tr>\n",
       "<tr>\n",
       "  <th>Method:</th>             <td>Least Squares</td>  <th>  F-statistic:       </th> <td>   82.10</td>\n",
       "</tr>\n",
       "<tr>\n",
       "  <th>Date:</th>             <td>Sun, 21 Aug 2022</td> <th>  Prob (F-statistic):</th> <td>3.39e-29</td>\n",
       "</tr>\n",
       "<tr>\n",
       "  <th>Time:</th>                 <td>08:04:51</td>     <th>  Log-Likelihood:    </th> <td> -426.46</td>\n",
       "</tr>\n",
       "<tr>\n",
       "  <th>No. Observations:</th>      <td>    95</td>      <th>  AIC:               </th> <td>   862.9</td>\n",
       "</tr>\n",
       "<tr>\n",
       "  <th>Df Residuals:</th>          <td>    90</td>      <th>  BIC:               </th> <td>   875.7</td>\n",
       "</tr>\n",
       "<tr>\n",
       "  <th>Df Model:</th>              <td>     4</td>      <th>                     </th>     <td> </td>   \n",
       "</tr>\n",
       "<tr>\n",
       "  <th>Covariance Type:</th>      <td>nonrobust</td>    <th>                     </th>     <td> </td>   \n",
       "</tr>\n",
       "</table>\n",
       "<table class=\"simpletable\">\n",
       "<tr>\n",
       "         <td></td>           <th>coef</th>     <th>std err</th>      <th>t</th>      <th>P>|t|</th>  <th>[0.025</th>    <th>0.975]</th>  \n",
       "</tr>\n",
       "<tr>\n",
       "  <th>const</th>          <td>    1.3763</td> <td>   38.767</td> <td>    0.036</td> <td> 0.972</td> <td>  -75.642</td> <td>   78.395</td>\n",
       "</tr>\n",
       "<tr>\n",
       "  <th>social_support</th> <td>   -0.5119</td> <td>    0.073</td> <td>   -7.025</td> <td> 0.000</td> <td>   -0.657</td> <td>   -0.367</td>\n",
       "</tr>\n",
       "<tr>\n",
       "  <th>freedom</th>        <td>   -0.1786</td> <td>    0.060</td> <td>   -2.966</td> <td> 0.004</td> <td>   -0.298</td> <td>   -0.059</td>\n",
       "</tr>\n",
       "<tr>\n",
       "  <th>generosity</th>     <td>   -0.0518</td> <td>    0.061</td> <td>   -0.847</td> <td> 0.399</td> <td>   -0.173</td> <td>    0.070</td>\n",
       "</tr>\n",
       "<tr>\n",
       "  <th>life_exp</th>       <td>    1.8109</td> <td>    0.459</td> <td>    3.942</td> <td> 0.000</td> <td>    0.898</td> <td>    2.724</td>\n",
       "</tr>\n",
       "</table>\n",
       "<table class=\"simpletable\">\n",
       "<tr>\n",
       "  <th>Omnibus:</th>       <td> 1.025</td> <th>  Durbin-Watson:     </th> <td>   1.871</td>\n",
       "</tr>\n",
       "<tr>\n",
       "  <th>Prob(Omnibus):</th> <td> 0.599</td> <th>  Jarque-Bera (JB):  </th> <td>   0.523</td>\n",
       "</tr>\n",
       "<tr>\n",
       "  <th>Skew:</th>          <td>-0.042</td> <th>  Prob(JB):          </th> <td>   0.770</td>\n",
       "</tr>\n",
       "<tr>\n",
       "  <th>Kurtosis:</th>      <td> 3.354</td> <th>  Cond. No.          </th> <td>2.84e+03</td>\n",
       "</tr>\n",
       "</table><br/><br/>Notes:<br/>[1] Standard Errors assume that the covariance matrix of the errors is correctly specified.<br/>[2] The condition number is large, 2.84e+03. This might indicate that there are<br/>strong multicollinearity or other numerical problems."
      ],
      "text/plain": [
       "<class 'statsmodels.iolib.summary.Summary'>\n",
       "\"\"\"\n",
       "                            OLS Regression Results                            \n",
       "==============================================================================\n",
       "Dep. Variable:        happiness_score   R-squared:                       0.785\n",
       "Model:                            OLS   Adj. R-squared:                  0.775\n",
       "Method:                 Least Squares   F-statistic:                     82.10\n",
       "Date:                Sun, 21 Aug 2022   Prob (F-statistic):           3.39e-29\n",
       "Time:                        08:04:51   Log-Likelihood:                -426.46\n",
       "No. Observations:                  95   AIC:                             862.9\n",
       "Df Residuals:                      90   BIC:                             875.7\n",
       "Df Model:                           4                                         \n",
       "Covariance Type:            nonrobust                                         \n",
       "==================================================================================\n",
       "                     coef    std err          t      P>|t|      [0.025      0.975]\n",
       "----------------------------------------------------------------------------------\n",
       "const              1.3763     38.767      0.036      0.972     -75.642      78.395\n",
       "social_support    -0.5119      0.073     -7.025      0.000      -0.657      -0.367\n",
       "freedom           -0.1786      0.060     -2.966      0.004      -0.298      -0.059\n",
       "generosity        -0.0518      0.061     -0.847      0.399      -0.173       0.070\n",
       "life_exp           1.8109      0.459      3.942      0.000       0.898       2.724\n",
       "==============================================================================\n",
       "Omnibus:                        1.025   Durbin-Watson:                   1.871\n",
       "Prob(Omnibus):                  0.599   Jarque-Bera (JB):                0.523\n",
       "Skew:                          -0.042   Prob(JB):                        0.770\n",
       "Kurtosis:                       3.354   Cond. No.                     2.84e+03\n",
       "==============================================================================\n",
       "\n",
       "Notes:\n",
       "[1] Standard Errors assume that the covariance matrix of the errors is correctly specified.\n",
       "[2] The condition number is large, 2.84e+03. This might indicate that there are\n",
       "strong multicollinearity or other numerical problems.\n",
       "\"\"\""
      ]
     },
     "execution_count": 27,
     "metadata": {},
     "output_type": "execute_result"
    }
   ],
   "source": [
    "model = sm.OLS(y_train,X_train)\n",
    "results = model.fit()\n",
    "results.summary()"
   ]
  },
  {
   "cell_type": "code",
   "execution_count": 28,
   "id": "71751c2d-66dc-46ec-bc12-2afc0d2fc6ee",
   "metadata": {},
   "outputs": [
    {
     "data": {
      "text/html": [
       "<table class=\"simpletable\">\n",
       "<caption>OLS Regression Results</caption>\n",
       "<tr>\n",
       "  <th>Dep. Variable:</th>     <td>happiness_score</td> <th>  R-squared:         </th> <td>   0.825</td>\n",
       "</tr>\n",
       "<tr>\n",
       "  <th>Model:</th>                   <td>OLS</td>       <th>  Adj. R-squared:    </th> <td>   0.809</td>\n",
       "</tr>\n",
       "<tr>\n",
       "  <th>Method:</th>             <td>Least Squares</td>  <th>  F-statistic:       </th> <td>   50.64</td>\n",
       "</tr>\n",
       "<tr>\n",
       "  <th>Date:</th>             <td>Sun, 21 Aug 2022</td> <th>  Prob (F-statistic):</th> <td>1.01e-15</td>\n",
       "</tr>\n",
       "<tr>\n",
       "  <th>Time:</th>                 <td>08:04:51</td>     <th>  Log-Likelihood:    </th> <td> -209.39</td>\n",
       "</tr>\n",
       "<tr>\n",
       "  <th>No. Observations:</th>      <td>    48</td>      <th>  AIC:               </th> <td>   428.8</td>\n",
       "</tr>\n",
       "<tr>\n",
       "  <th>Df Residuals:</th>          <td>    43</td>      <th>  BIC:               </th> <td>   438.1</td>\n",
       "</tr>\n",
       "<tr>\n",
       "  <th>Df Model:</th>              <td>     4</td>      <th>                     </th>     <td> </td>   \n",
       "</tr>\n",
       "<tr>\n",
       "  <th>Covariance Type:</th>      <td>nonrobust</td>    <th>                     </th>     <td> </td>   \n",
       "</tr>\n",
       "</table>\n",
       "<table class=\"simpletable\">\n",
       "<tr>\n",
       "         <td></td>           <th>coef</th>     <th>std err</th>      <th>t</th>      <th>P>|t|</th>  <th>[0.025</th>    <th>0.975]</th>  \n",
       "</tr>\n",
       "<tr>\n",
       "  <th>const</th>          <td> -145.6747</td> <td>   49.345</td> <td>   -2.952</td> <td> 0.005</td> <td> -245.188</td> <td>  -46.161</td>\n",
       "</tr>\n",
       "<tr>\n",
       "  <th>social_support</th> <td>   -0.3854</td> <td>    0.102</td> <td>   -3.791</td> <td> 0.000</td> <td>   -0.590</td> <td>   -0.180</td>\n",
       "</tr>\n",
       "<tr>\n",
       "  <th>freedom</th>        <td>   -0.2358</td> <td>    0.080</td> <td>   -2.933</td> <td> 0.005</td> <td>   -0.398</td> <td>   -0.074</td>\n",
       "</tr>\n",
       "<tr>\n",
       "  <th>generosity</th>     <td>   -0.0066</td> <td>    0.082</td> <td>   -0.080</td> <td> 0.936</td> <td>   -0.172</td> <td>    0.159</td>\n",
       "</tr>\n",
       "<tr>\n",
       "  <th>life_exp</th>       <td>    3.6813</td> <td>    0.589</td> <td>    6.251</td> <td> 0.000</td> <td>    2.494</td> <td>    4.869</td>\n",
       "</tr>\n",
       "</table>\n",
       "<table class=\"simpletable\">\n",
       "<tr>\n",
       "  <th>Omnibus:</th>       <td> 2.477</td> <th>  Durbin-Watson:     </th> <td>   1.956</td>\n",
       "</tr>\n",
       "<tr>\n",
       "  <th>Prob(Omnibus):</th> <td> 0.290</td> <th>  Jarque-Bera (JB):  </th> <td>   1.815</td>\n",
       "</tr>\n",
       "<tr>\n",
       "  <th>Skew:</th>          <td>-0.292</td> <th>  Prob(JB):          </th> <td>   0.404</td>\n",
       "</tr>\n",
       "<tr>\n",
       "  <th>Kurtosis:</th>      <td> 2.248</td> <th>  Cond. No.          </th> <td>2.66e+03</td>\n",
       "</tr>\n",
       "</table><br/><br/>Notes:<br/>[1] Standard Errors assume that the covariance matrix of the errors is correctly specified.<br/>[2] The condition number is large, 2.66e+03. This might indicate that there are<br/>strong multicollinearity or other numerical problems."
      ],
      "text/plain": [
       "<class 'statsmodels.iolib.summary.Summary'>\n",
       "\"\"\"\n",
       "                            OLS Regression Results                            \n",
       "==============================================================================\n",
       "Dep. Variable:        happiness_score   R-squared:                       0.825\n",
       "Model:                            OLS   Adj. R-squared:                  0.809\n",
       "Method:                 Least Squares   F-statistic:                     50.64\n",
       "Date:                Sun, 21 Aug 2022   Prob (F-statistic):           1.01e-15\n",
       "Time:                        08:04:51   Log-Likelihood:                -209.39\n",
       "No. Observations:                  48   AIC:                             428.8\n",
       "Df Residuals:                      43   BIC:                             438.1\n",
       "Df Model:                           4                                         \n",
       "Covariance Type:            nonrobust                                         \n",
       "==================================================================================\n",
       "                     coef    std err          t      P>|t|      [0.025      0.975]\n",
       "----------------------------------------------------------------------------------\n",
       "const           -145.6747     49.345     -2.952      0.005    -245.188     -46.161\n",
       "social_support    -0.3854      0.102     -3.791      0.000      -0.590      -0.180\n",
       "freedom           -0.2358      0.080     -2.933      0.005      -0.398      -0.074\n",
       "generosity        -0.0066      0.082     -0.080      0.936      -0.172       0.159\n",
       "life_exp           3.6813      0.589      6.251      0.000       2.494       4.869\n",
       "==============================================================================\n",
       "Omnibus:                        2.477   Durbin-Watson:                   1.956\n",
       "Prob(Omnibus):                  0.290   Jarque-Bera (JB):                1.815\n",
       "Skew:                          -0.292   Prob(JB):                        0.404\n",
       "Kurtosis:                       2.248   Cond. No.                     2.66e+03\n",
       "==============================================================================\n",
       "\n",
       "Notes:\n",
       "[1] Standard Errors assume that the covariance matrix of the errors is correctly specified.\n",
       "[2] The condition number is large, 2.66e+03. This might indicate that there are\n",
       "strong multicollinearity or other numerical problems.\n",
       "\"\"\""
      ]
     },
     "execution_count": 28,
     "metadata": {},
     "output_type": "execute_result"
    }
   ],
   "source": [
    "model_test = sm.OLS(y_test,X_test)\n",
    "results_test = model_test.fit()\n",
    "results_test.summary()"
   ]
  },
  {
   "cell_type": "markdown",
   "id": "bd3d129b-9a0b-41e5-b359-fc7f25e76c07",
   "metadata": {},
   "source": [
    "**If the performance of the model on the training dataset is significantly better than the performance on the test dataset, then the model may have overfit the training dataset.**\n",
    "\n",
    "**Overfitting is a common cause for poor generalization if we have a decisively high R-squared value of the model\n",
    "In our case, R-squared value of training set is good, so the model doesn't overfitting the training data.**"
   ]
  },
  {
   "cell_type": "markdown",
   "id": "3feb419a-e0ae-4805-aec4-34523c4e7276",
   "metadata": {},
   "source": [
    "10. Using the same model from the previous question, **calculate the MAE on the testing set and report it on the answers Sheet.** Are you satisfyied with the model's performance?"
   ]
  },
  {
   "cell_type": "code",
   "execution_count": 29,
   "id": "a119f31e-640b-4595-ada5-667a3ad3a7c9",
   "metadata": {},
   "outputs": [],
   "source": [
    "def mae(y, pred): \n",
    "    return round(np.mean(np.abs(y - pred)), 2)"
   ]
  },
  {
   "cell_type": "code",
   "execution_count": 30,
   "id": "48aebae2-1601-4a22-8703-a8f01d3f954d",
   "metadata": {},
   "outputs": [
    {
     "name": "stdout",
     "output_type": "stream",
     "text": [
      "Naïve Testing MAE: 39.94\n",
      "Testing MAE: 17.54\n"
     ]
    }
   ],
   "source": [
    "pred_test = results.predict(X_test)\n",
    "\n",
    "print('Naïve Testing MAE:', mae(y_test, np.mean(y_test))) #naive mae\n",
    "print('Testing MAE:', mae(y_test, pred_test)) # mae"
   ]
  },
  {
   "cell_type": "markdown",
   "id": "154416b0-47d5-4420-afe7-989bffebe7b6",
   "metadata": {},
   "source": [
    "### Bonus"
   ]
  },
  {
   "cell_type": "markdown",
   "id": "a789b3c5-ffcf-4769-a5c9-0487ada0ee3c",
   "metadata": {},
   "source": [
    "11. <span style=\"color:red\">[BONUS]</span> **Do you notice anything strange when looking at the regression coefficients of the model in the previous answer?** (answer here, not on the response Google Sheet)"
   ]
  },
  {
   "cell_type": "code",
   "execution_count": null,
   "id": "f42289d0-a9e2-4558-97e4-802b796493b3",
   "metadata": {},
   "outputs": [],
   "source": []
  },
  {
   "cell_type": "markdown",
   "id": "4f4d5a31-b3c4-4696-abd8-6638efd7f5e9",
   "metadata": {},
   "source": [
    "12. <span style=\"color:red\">[BONUS]</span> The code in the following cell creates a forecasting model using the `prophet` library. Specifically, it fits an additive model (the effect of the seasonality is added to the trend in order to get forecasts) on a dataframe `df` which contains the number of airline passengers over time. Notice how the seasonality in the forecast is too large at the start of the time series and too small at the end (compared to the data it tries to fit). **Modify the Prophet code to account for the effect of growing seasonality.** "
   ]
  },
  {
   "cell_type": "code",
   "execution_count": 31,
   "id": "3d471a1f-6442-4c8f-a8ea-a94f3258a584",
   "metadata": {},
   "outputs": [
    {
     "ename": "ModuleNotFoundError",
     "evalue": "No module named 'prophet'",
     "output_type": "error",
     "traceback": [
      "\u001b[1;31m---------------------------------------------------------------------------\u001b[0m",
      "\u001b[1;31mModuleNotFoundError\u001b[0m                       Traceback (most recent call last)",
      "Input \u001b[1;32mIn [31]\u001b[0m, in \u001b[0;36m<cell line: 3>\u001b[1;34m()\u001b[0m\n\u001b[0;32m      1\u001b[0m \u001b[38;5;66;03m# DO NOT DELETE >>> RUN THIS CELL!\u001b[39;00m\n\u001b[1;32m----> 3\u001b[0m \u001b[38;5;28;01mfrom\u001b[39;00m \u001b[38;5;21;01mprophet\u001b[39;00m \u001b[38;5;28;01mimport\u001b[39;00m Prophet\n\u001b[0;32m      5\u001b[0m df \u001b[38;5;241m=\u001b[39m pd\u001b[38;5;241m.\u001b[39mread_csv(\u001b[38;5;124m'\u001b[39m\u001b[38;5;124mdata/air-passengers.csv\u001b[39m\u001b[38;5;124m'\u001b[39m)\n\u001b[0;32m      6\u001b[0m m \u001b[38;5;241m=\u001b[39m Prophet()\n",
      "\u001b[1;31mModuleNotFoundError\u001b[0m: No module named 'prophet'"
     ]
    }
   ],
   "source": [
    "# DO NOT DELETE >>> RUN THIS CELL!\n",
    "\n",
    "from prophet import Prophet\n",
    "\n",
    "df = pd.read_csv('data/air-passengers.csv')\n",
    "m = Prophet()\n",
    "m.fit(df)\n",
    "future = m.make_future_dataframe(24, freq='MS')\n",
    "forecast = m.predict(future)\n",
    "fig = m.plot(forecast)"
   ]
  },
  {
   "cell_type": "code",
   "execution_count": null,
   "id": "430e14f6-9633-4a7d-944d-c080138c0f33",
   "metadata": {},
   "outputs": [],
   "source": []
  }
 ],
 "metadata": {
  "kernelspec": {
   "display_name": "Python 3 (ipykernel)",
   "language": "python",
   "name": "python3"
  },
  "language_info": {
   "codemirror_mode": {
    "name": "ipython",
    "version": 3
   },
   "file_extension": ".py",
   "mimetype": "text/x-python",
   "name": "python",
   "nbconvert_exporter": "python",
   "pygments_lexer": "ipython3",
   "version": "3.9.12"
  },
  "vscode": {
   "interpreter": {
    "hash": "26f7e70469da5e3ce07a97d6ca75097d36b53fe5b1e9c4596e3a33864f0ea1b0"
   }
  }
 },
 "nbformat": 4,
 "nbformat_minor": 5
}
