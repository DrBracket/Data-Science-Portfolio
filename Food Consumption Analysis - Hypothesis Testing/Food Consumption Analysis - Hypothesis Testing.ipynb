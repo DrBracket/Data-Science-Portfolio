{
 "cells": [
  {
   "cell_type": "markdown",
   "id": "fced9a7c-bf3f-478c-9860-5d24a88b172b",
   "metadata": {},
   "source": [
    "# Food Consumption Analysis - Hypothesis Testing"
   ]
  },
  {
   "cell_type": "code",
   "execution_count": 7,
   "id": "734a815f-7e3e-4032-9721-eb5409fbc523",
   "metadata": {},
   "outputs": [],
   "source": [
    "import numpy as np\n",
    "import pandas as pd\n",
    "\n",
    "import matplotlib.pyplot as plt\n",
    "import seaborn as sns\n",
    "sns.set_theme()\n",
    "sns.set(rc={'figure.figsize':(15, 9)})\n",
    "sns.set(font_scale=1.5) "
   ]
  },
  {
   "cell_type": "markdown",
   "id": "7b2d5563-e2df-4934-b313-c15a3fc6e6d2",
   "metadata": {},
   "source": [
    "## Introduction\n",
    "\n",
    "The `food_consumption.csv` dataset from the `food` folder contains data on the several countries' food consumption per food category and their respective CO2 emissions. Load it to a DataFrame named `food` and check its contents."
   ]
  },
  {
   "cell_type": "code",
   "execution_count": 4,
   "id": "dfd5da95-6fdd-4f31-acb8-9c6e1a424df7",
   "metadata": {},
   "outputs": [
    {
     "data": {
      "text/html": [
       "<div>\n",
       "<style scoped>\n",
       "    .dataframe tbody tr th:only-of-type {\n",
       "        vertical-align: middle;\n",
       "    }\n",
       "\n",
       "    .dataframe tbody tr th {\n",
       "        vertical-align: top;\n",
       "    }\n",
       "\n",
       "    .dataframe thead th {\n",
       "        text-align: right;\n",
       "    }\n",
       "</style>\n",
       "<table border=\"1\" class=\"dataframe\">\n",
       "  <thead>\n",
       "    <tr style=\"text-align: right;\">\n",
       "      <th></th>\n",
       "      <th>country</th>\n",
       "      <th>food_category</th>\n",
       "      <th>consumption</th>\n",
       "      <th>co2_emission</th>\n",
       "    </tr>\n",
       "  </thead>\n",
       "  <tbody>\n",
       "    <tr>\n",
       "      <th>0</th>\n",
       "      <td>Argentina</td>\n",
       "      <td>pork</td>\n",
       "      <td>10.51</td>\n",
       "      <td>37.20</td>\n",
       "    </tr>\n",
       "    <tr>\n",
       "      <th>1</th>\n",
       "      <td>Argentina</td>\n",
       "      <td>poultry</td>\n",
       "      <td>38.66</td>\n",
       "      <td>41.53</td>\n",
       "    </tr>\n",
       "    <tr>\n",
       "      <th>2</th>\n",
       "      <td>Argentina</td>\n",
       "      <td>beef</td>\n",
       "      <td>55.48</td>\n",
       "      <td>1712.00</td>\n",
       "    </tr>\n",
       "    <tr>\n",
       "      <th>3</th>\n",
       "      <td>Argentina</td>\n",
       "      <td>lamb_goat</td>\n",
       "      <td>1.56</td>\n",
       "      <td>54.63</td>\n",
       "    </tr>\n",
       "    <tr>\n",
       "      <th>4</th>\n",
       "      <td>Argentina</td>\n",
       "      <td>fish</td>\n",
       "      <td>4.36</td>\n",
       "      <td>6.96</td>\n",
       "    </tr>\n",
       "    <tr>\n",
       "      <th>...</th>\n",
       "      <td>...</td>\n",
       "      <td>...</td>\n",
       "      <td>...</td>\n",
       "      <td>...</td>\n",
       "    </tr>\n",
       "    <tr>\n",
       "      <th>1425</th>\n",
       "      <td>Bangladesh</td>\n",
       "      <td>dairy</td>\n",
       "      <td>21.91</td>\n",
       "      <td>31.21</td>\n",
       "    </tr>\n",
       "    <tr>\n",
       "      <th>1426</th>\n",
       "      <td>Bangladesh</td>\n",
       "      <td>wheat</td>\n",
       "      <td>17.47</td>\n",
       "      <td>3.33</td>\n",
       "    </tr>\n",
       "    <tr>\n",
       "      <th>1427</th>\n",
       "      <td>Bangladesh</td>\n",
       "      <td>rice</td>\n",
       "      <td>171.73</td>\n",
       "      <td>219.76</td>\n",
       "    </tr>\n",
       "    <tr>\n",
       "      <th>1428</th>\n",
       "      <td>Bangladesh</td>\n",
       "      <td>soybeans</td>\n",
       "      <td>0.61</td>\n",
       "      <td>0.27</td>\n",
       "    </tr>\n",
       "    <tr>\n",
       "      <th>1429</th>\n",
       "      <td>Bangladesh</td>\n",
       "      <td>nuts</td>\n",
       "      <td>0.72</td>\n",
       "      <td>1.27</td>\n",
       "    </tr>\n",
       "  </tbody>\n",
       "</table>\n",
       "<p>1430 rows × 4 columns</p>\n",
       "</div>"
      ],
      "text/plain": [
       "         country food_category  consumption  co2_emission\n",
       "0      Argentina          pork        10.51         37.20\n",
       "1      Argentina       poultry        38.66         41.53\n",
       "2      Argentina          beef        55.48       1712.00\n",
       "3      Argentina     lamb_goat         1.56         54.63\n",
       "4      Argentina          fish         4.36          6.96\n",
       "...          ...           ...          ...           ...\n",
       "1425  Bangladesh         dairy        21.91         31.21\n",
       "1426  Bangladesh         wheat        17.47          3.33\n",
       "1427  Bangladesh          rice       171.73        219.76\n",
       "1428  Bangladesh      soybeans         0.61          0.27\n",
       "1429  Bangladesh          nuts         0.72          1.27\n",
       "\n",
       "[1430 rows x 4 columns]"
      ]
     },
     "execution_count": 4,
     "metadata": {},
     "output_type": "execute_result"
    }
   ],
   "source": [
    "food = pd.read_csv(\"data/food_consumption.csv\")\n",
    "food"
   ]
  },
  {
   "cell_type": "markdown",
   "id": "472b304f-f6f4-4a5b-a662-71e0250b2cce",
   "metadata": {},
   "source": [
    "Use the `.describe()` method on the `food` DataFrame to produce descriptive statistics about the `consumption` metric for each class in the `food_category` variable. **Which `food_category` has the highest median value of `food_consumption`?** "
   ]
  },
  {
   "cell_type": "code",
   "execution_count": 3,
   "id": "2e8dad5d-eff2-4aea-8ee6-8013d526cc48",
   "metadata": {},
   "outputs": [
    {
     "data": {
      "text/plain": [
       "food_category\n",
       "dairy    110.975\n",
       "Name: (consumption, 50%), dtype: float64"
      ]
     },
     "execution_count": 3,
     "metadata": {},
     "output_type": "execute_result"
    }
   ],
   "source": [
    "food.groupby('food_category').describe()[['consumption']]['consumption','50%'].sort_values(ascending=False).head(1)"
   ]
  },
  {
   "cell_type": "markdown",
   "id": "78301ce2-ff86-4065-b681-3f08468dca5a",
   "metadata": {},
   "source": [
    "In a single chart, plot one boxplot for each `food_category` (11 in total) using the variable `co2_emission` as the metric. **By looking at the chart, which `food_category` has the highest interquartile range (IQR)?**"
   ]
  },
  {
   "cell_type": "code",
   "execution_count": 4,
   "id": "0f42d7f9-ccdc-4206-b4e4-b7e6748a65a7",
   "metadata": {},
   "outputs": [
    {
     "data": {
      "text/plain": [
       "<AxesSubplot:xlabel='co2_emission', ylabel='food_category'>"
      ]
     },
     "execution_count": 4,
     "metadata": {},
     "output_type": "execute_result"
    },
    {
     "data": {
      "image/png": "[encoded data removed]",
      "text/plain": [
       "<Figure size 1080x648 with 1 Axes>"
      ]
     },
     "metadata": {},
     "output_type": "display_data"
    }
   ],
   "source": [
    "sns.boxplot(x = 'co2_emission', y = 'food_category', data = food, fliersize=3, linewidth=1)"
   ]
  },
  {
   "cell_type": "code",
   "execution_count": 5,
   "id": "ec4fd198",
   "metadata": {},
   "outputs": [
    {
     "name": "stdout",
     "output_type": "stream",
     "text": [
      "IQR of pork is: 92.52\n",
      "IQR of poultry is: 20.230000000000004\n",
      "IQR of beef is: 399.37749999999994\n",
      "IQR of lamb_goat is: 89.03750000000001\n",
      "IQR of fish is: 25.27\n",
      "IQR of eggs is: 7.6850000000000005\n",
      "IQR of dairy is: 209.2725\n",
      "IQR of wheat is: 12.645000000000001\n",
      "IQR of rice is: 49.55\n",
      "IQR of soybeans is: 0.29\n",
      "IQR of nuts is: 6.734999999999999\n",
      "__________________________________________\n",
      "The food category that has the highest IQR is beef with: 399.37749999999994\n"
     ]
    }
   ],
   "source": [
    "food_cat = food[\"food_category\"].unique()\n",
    "iqrs = {}\n",
    "for val in food_cat:\n",
    "    food_categ = food[food[\"food_category\"] == val][\"co2_emission\"]\n",
    "    q1, q3 = np.percentile(food_categ, [25, 75])\n",
    "    iqr_range = q3 - q1\n",
    "    print(f\"IQR of {val} is: {iqr_range}\")\n",
    "    iqrs[val] = iqr_range\n",
    "print(\"__________________________________________\")\n",
    "print(f\"The food category that has the highest IQR is {max(iqrs, key=iqrs.get)} with: {max(iqrs.values())}\")"
   ]
  },
  {
   "cell_type": "markdown",
   "id": "50a7f9f2-6fe9-4707-a734-7dc1d9b010f9",
   "metadata": {},
   "source": [
    "Looking at the chart from the previous step, which is the `food_category` with the highest median `co2_emission` value? "
   ]
  },
  {
   "cell_type": "code",
   "execution_count": 6,
   "id": "b0a27598-6e5d-437e-a879-15a86197bd4c",
   "metadata": {},
   "outputs": [
    {
     "name": "stdout",
     "output_type": "stream",
     "text": [
      "Median of pork is: 36.650000000000006\n",
      "Median of poultry is: 21.325\n",
      "Median of beef is: 255.655\n",
      "Median of lamb_goat is: 46.405\n",
      "Median of fish is: 22.27\n",
      "Median of eggs is: 7.734999999999999\n",
      "Median of dairy is: 158.075\n",
      "Median of wheat is: 13.24\n",
      "Median of rice is: 15.2\n",
      "Median of soybeans is: 0.035\n",
      "Median of nuts is: 6.1850000000000005\n",
      "__________________________________________\n",
      "The food category that has the highest median of co2_emission value is beef with: 255.655\n"
     ]
    }
   ],
   "source": [
    "food_cat = food[\"food_category\"].unique()\n",
    "medians = {}\n",
    "for val in food_cat:\n",
    "    food_categ = food[food[\"food_category\"] == val][\"co2_emission\"]\n",
    "    median = np.median(food_categ)\n",
    "    print(f\"Median of {val} is: {median}\")\n",
    "    medians[val] = median\n",
    "print(\"__________________________________________\")\n",
    "print(f\"The food category that has the highest median of co2_emission value is {max(medians, key=medians.get)} with: {max(medians.values())}\")\n",
    "    "
   ]
  },
  {
   "cell_type": "markdown",
   "id": "bccd7696-498d-4220-89ff-2154275d2469",
   "metadata": {},
   "source": [
    "Consider the `consumption` of \"poultry\" and \"fish\" across all available `countries`; looking at the table from question 1, the average of poultry consumption (21.22) seems to be higher than that of fish consumption (17.29), but is this difference statistically significant? \n",
    "\n",
    "Create a permutation test in order to assess the null hypothesis that there is no difference between the two means. **Do you accept or reject the null hypothesis?**"
   ]
  },
  {
   "cell_type": "markdown",
   "id": "186f41ef",
   "metadata": {},
   "source": [
    "$$\\begin{gather}        \n",
    "H_0: \\mu \\text{ consumption}_{poultry}\n",
    "= \\mu \\text{ consumption}_{fish} \n",
    "\\\\        \n",
    "H_1: \\mu \\text{ consumption}_{poultry}\n",
    "\\ne \\mu \\text{ consumption}_{fish}\n",
    "\\end{gather}$$"
   ]
  },
  {
   "cell_type": "code",
   "execution_count": 7,
   "id": "159f3cd2-90f7-4eb9-a85b-263341415ba1",
   "metadata": {},
   "outputs": [
    {
     "data": {
      "text/html": [
       "<div>\n",
       "<style scoped>\n",
       "    .dataframe tbody tr th:only-of-type {\n",
       "        vertical-align: middle;\n",
       "    }\n",
       "\n",
       "    .dataframe tbody tr th {\n",
       "        vertical-align: top;\n",
       "    }\n",
       "\n",
       "    .dataframe thead th {\n",
       "        text-align: right;\n",
       "    }\n",
       "</style>\n",
       "<table border=\"1\" class=\"dataframe\">\n",
       "  <thead>\n",
       "    <tr style=\"text-align: right;\">\n",
       "      <th></th>\n",
       "      <th>food_category</th>\n",
       "      <th>consumption</th>\n",
       "    </tr>\n",
       "  </thead>\n",
       "  <tbody>\n",
       "    <tr>\n",
       "      <th>0</th>\n",
       "      <td>fish</td>\n",
       "      <td>4.36</td>\n",
       "    </tr>\n",
       "    <tr>\n",
       "      <th>1</th>\n",
       "      <td>fish</td>\n",
       "      <td>17.69</td>\n",
       "    </tr>\n",
       "    <tr>\n",
       "      <th>2</th>\n",
       "      <td>fish</td>\n",
       "      <td>3.85</td>\n",
       "    </tr>\n",
       "    <tr>\n",
       "      <th>3</th>\n",
       "      <td>fish</td>\n",
       "      <td>74.41</td>\n",
       "    </tr>\n",
       "    <tr>\n",
       "      <th>4</th>\n",
       "      <td>fish</td>\n",
       "      <td>20.36</td>\n",
       "    </tr>\n",
       "    <tr>\n",
       "      <th>...</th>\n",
       "      <td>...</td>\n",
       "      <td>...</td>\n",
       "    </tr>\n",
       "    <tr>\n",
       "      <th>255</th>\n",
       "      <td>poultry</td>\n",
       "      <td>4.97</td>\n",
       "    </tr>\n",
       "    <tr>\n",
       "      <th>256</th>\n",
       "      <td>poultry</td>\n",
       "      <td>4.96</td>\n",
       "    </tr>\n",
       "    <tr>\n",
       "      <th>257</th>\n",
       "      <td>poultry</td>\n",
       "      <td>7.50</td>\n",
       "    </tr>\n",
       "    <tr>\n",
       "      <th>258</th>\n",
       "      <td>poultry</td>\n",
       "      <td>8.91</td>\n",
       "    </tr>\n",
       "    <tr>\n",
       "      <th>259</th>\n",
       "      <td>poultry</td>\n",
       "      <td>1.40</td>\n",
       "    </tr>\n",
       "  </tbody>\n",
       "</table>\n",
       "<p>260 rows × 2 columns</p>\n",
       "</div>"
      ],
      "text/plain": [
       "    food_category  consumption\n",
       "0            fish         4.36\n",
       "1            fish        17.69\n",
       "2            fish         3.85\n",
       "3            fish        74.41\n",
       "4            fish        20.36\n",
       "..            ...          ...\n",
       "255       poultry         4.97\n",
       "256       poultry         4.96\n",
       "257       poultry         7.50\n",
       "258       poultry         8.91\n",
       "259       poultry         1.40\n",
       "\n",
       "[260 rows x 2 columns]"
      ]
     },
     "execution_count": 7,
     "metadata": {},
     "output_type": "execute_result"
    }
   ],
   "source": [
    "poultry_cons = food[food[\"food_category\"] == \"poultry\"][[\"food_category\", \"consumption\"]]\n",
    "fish_cons = food[food[\"food_category\"] == \"fish\"][[\"food_category\", \"consumption\"]]\n",
    "\n",
    "permutation_df = pd.concat([fish_cons, poultry_cons])\n",
    "permutation_df.reset_index(drop=True)"
   ]
  },
  {
   "cell_type": "code",
   "execution_count": 8,
   "id": "9e1e59ac",
   "metadata": {},
   "outputs": [
    {
     "name": "stdout",
     "output_type": "stream",
     "text": [
      "Observed test statistic:  3.93\n"
     ]
    },
    {
     "name": "stderr",
     "output_type": "stream",
     "text": [
      "D:\\Programmi\\anaconda3\\lib\\site-packages\\numpy\\core\\fromnumeric.py:3438: FutureWarning: In a future version, DataFrame.mean(axis=None) will return a scalar mean over the entire DataFrame. To retain the old behavior, use 'frame.mean(axis=0)' or just 'frame.mean()'\n",
      "  return mean(axis=axis, dtype=dtype, out=out, **kwargs)\n",
      "D:\\Programmi\\anaconda3\\lib\\site-packages\\numpy\\core\\fromnumeric.py:3438: FutureWarning: Dropping of nuisance columns in DataFrame reductions (with 'numeric_only=None') is deprecated; in a future version this will raise TypeError.  Select only valid columns before calling the reduction.\n",
      "  return mean(axis=axis, dtype=dtype, out=out, **kwargs)\n"
     ]
    }
   ],
   "source": [
    "mu_poultry = float(round(np.mean(poultry_cons), 2))\n",
    "mu_fish = float(round(np.mean(fish_cons), 2))\n",
    "mu_diff = mu_poultry - mu_fish\n",
    "\n",
    "print(\"Observed test statistic: \", round(mu_diff, 2))"
   ]
  },
  {
   "cell_type": "code",
   "execution_count": 9,
   "id": "ba0b77e7",
   "metadata": {},
   "outputs": [
    {
     "ename": "NameError",
     "evalue": "name 'permutation_df' is not defined",
     "output_type": "error",
     "traceback": [
      "\u001b[1;31m---------------------------------------------------------------------------\u001b[0m",
      "\u001b[1;31mNameError\u001b[0m                                 Traceback (most recent call last)",
      "\u001b[1;32mc:\\Users\\michele.ragno\\Desktop\\Mike-Work\\IT OP_OLD\\Git - Mike\\Data-Science-Portfolio\\Food Consumption Analysis - Hypothesis Testing\\Food Consumption Analysis - Hypothesis Testing.ipynb Cella 16\u001b[0m in \u001b[0;36m<cell line: 3>\u001b[1;34m()\u001b[0m\n\u001b[0;32m      <a href='vscode-notebook-cell:/c%3A/Users/michele.ragno/Desktop/Mike-Work/IT%20OP_OLD/Git%20-%20Mike/Data-Science-Portfolio/Food%20Consumption%20Analysis%20-%20Hypothesis%20Testing/Food%20Consumption%20Analysis%20-%20Hypothesis%20Testing.ipynb#X21sZmlsZQ%3D%3D?line=1'>2</a>\u001b[0m mu_diff_samples \u001b[39m=\u001b[39m []\n\u001b[0;32m      <a href='vscode-notebook-cell:/c%3A/Users/michele.ragno/Desktop/Mike-Work/IT%20OP_OLD/Git%20-%20Mike/Data-Science-Portfolio/Food%20Consumption%20Analysis%20-%20Hypothesis%20Testing/Food%20Consumption%20Analysis%20-%20Hypothesis%20Testing.ipynb#X21sZmlsZQ%3D%3D?line=2'>3</a>\u001b[0m \u001b[39mfor\u001b[39;00m i \u001b[39min\u001b[39;00m \u001b[39mrange\u001b[39m(n): \n\u001b[0;32m      <a href='vscode-notebook-cell:/c%3A/Users/michele.ragno/Desktop/Mike-Work/IT%20OP_OLD/Git%20-%20Mike/Data-Science-Portfolio/Food%20Consumption%20Analysis%20-%20Hypothesis%20Testing/Food%20Consumption%20Analysis%20-%20Hypothesis%20Testing.ipynb#X21sZmlsZQ%3D%3D?line=3'>4</a>\u001b[0m     \u001b[39m# estrazione del 50% di un sottoinsieme della popolazione senza sostituzione\u001b[39;00m\n\u001b[1;32m----> <a href='vscode-notebook-cell:/c%3A/Users/michele.ragno/Desktop/Mike-Work/IT%20OP_OLD/Git%20-%20Mike/Data-Science-Portfolio/Food%20Consumption%20Analysis%20-%20Hypothesis%20Testing/Food%20Consumption%20Analysis%20-%20Hypothesis%20Testing.ipynb#X21sZmlsZQ%3D%3D?line=4'>5</a>\u001b[0m     df_sample1 \u001b[39m=\u001b[39m permutation_df\u001b[39m.\u001b[39msample(frac\u001b[39m=\u001b[39m\u001b[39m0.5\u001b[39m, replace\u001b[39m=\u001b[39m\u001b[39mFalse\u001b[39;00m)\n\u001b[0;32m      <a href='vscode-notebook-cell:/c%3A/Users/michele.ragno/Desktop/Mike-Work/IT%20OP_OLD/Git%20-%20Mike/Data-Science-Portfolio/Food%20Consumption%20Analysis%20-%20Hypothesis%20Testing/Food%20Consumption%20Analysis%20-%20Hypothesis%20Testing.ipynb#X21sZmlsZQ%3D%3D?line=5'>6</a>\u001b[0m     ix2 \u001b[39m=\u001b[39m \u001b[39mset\u001b[39m(permutation_df\u001b[39m.\u001b[39mindex) \u001b[39m-\u001b[39m \u001b[39mset\u001b[39m(df_sample1\u001b[39m.\u001b[39mindex)\n\u001b[0;32m      <a href='vscode-notebook-cell:/c%3A/Users/michele.ragno/Desktop/Mike-Work/IT%20OP_OLD/Git%20-%20Mike/Data-Science-Portfolio/Food%20Consumption%20Analysis%20-%20Hypothesis%20Testing/Food%20Consumption%20Analysis%20-%20Hypothesis%20Testing.ipynb#X21sZmlsZQ%3D%3D?line=6'>7</a>\u001b[0m     \u001b[39m# creazione del dataframe con l'altro 50% dei dati\u001b[39;00m\n",
      "\u001b[1;31mNameError\u001b[0m: name 'permutation_df' is not defined"
     ]
    }
   ],
   "source": [
    "n = 20000\n",
    "mu_diff_samples = []\n",
    "for i in range(n): \n",
    "    # estrazione del 50% di un sottoinsieme della popolazione senza sostituzione\n",
    "    df_sample1 = permutation_df.sample(frac=0.5, replace=False)\n",
    "    ix2 = set(permutation_df.index) - set(df_sample1.index)\n",
    "    # creazione del dataframe con l'altro 50% dei dati\n",
    "    df_sample2 = permutation_df.loc[list(ix2)]\n",
    "    \n",
    "    mu_diff_temp = np.mean(df_sample1['consumption']) - np.mean(df_sample2['consumption'])\n",
    "    mu_diff_samples.append(mu_diff_temp)"
   ]
  },
  {
   "cell_type": "code",
   "execution_count": 10,
   "id": "22843c0f",
   "metadata": {},
   "outputs": [
    {
     "data": {
      "image/png": "[encoded data removed]",
      "text/plain": [
       "<Figure size 1080x648 with 1 Axes>"
      ]
     },
     "metadata": {},
     "output_type": "display_data"
    }
   ],
   "source": [
    "sns.histplot(mu_diff_samples)\n",
    "plt.axvline(mu_diff, 0, 1, color='r', linestyle='--')\n",
    "plt.show()"
   ]
  },
  {
   "cell_type": "code",
   "execution_count": 11,
   "id": "399ca33a",
   "metadata": {},
   "outputs": [
    {
     "name": "stdout",
     "output_type": "stream",
     "text": [
      "Results more extreme than observed: 595\n",
      "Total results: 20000\n",
      "p-value: 595 / 20000 = 0.02975\n"
     ]
    }
   ],
   "source": [
    "print('Results more extreme than observed:', sum([el >= mu_diff for el in mu_diff_samples]))\n",
    "print('Total results:', len(mu_diff_samples))\n",
    "\n",
    "p_value = sum([el > mu_diff for el in mu_diff_samples])/n\n",
    "print('p-value:', sum([el >= mu_diff for el in mu_diff_samples]), '/', len(mu_diff_samples), '=', p_value)"
   ]
  },
  {
   "cell_type": "code",
   "execution_count": 12,
   "id": "57d8aa5a",
   "metadata": {},
   "outputs": [
    {
     "name": "stdout",
     "output_type": "stream",
     "text": [
      "H0 rejected: the observed result is statistically significant | p-value <= alpha\n"
     ]
    }
   ],
   "source": [
    "alpha = 0.05\n",
    "\n",
    "if p_value <= alpha: \n",
    "    print('H0 rejected: the observed result is statistically significant | p-value <= alpha')\n",
    "else: \n",
    "    print('H0 accepted | the observed result is not statistically significant | p-value > alpha')"
   ]
  },
  {
   "cell_type": "markdown",
   "id": "50a931e6-69cd-4aeb-9106-af5490fcb6a4",
   "metadata": {},
   "source": [
    "#### Conclusions"
   ]
  },
  {
   "cell_type": "markdown",
   "id": "68f568f2-29ee-4afe-8637-418c8c33e8f7",
   "metadata": {},
   "source": [
    "Assuming that, there is no difference between the average consumption of poultry and fish, using a significance level of 5%, the calculated p-value (simulated test statistic under null hypothesis) there is a possibility of **2.9%** of obtaining extreme values at least as much as the actual observed result, and therefore observing a difference between the two averages."
   ]
  }
 ],
 "metadata": {
  "kernelspec": {
   "display_name": "Python 3 (ipykernel)",
   "language": "python",
   "name": "python3"
  },
  "language_info": {
   "codemirror_mode": {
    "name": "ipython",
    "version": 3
   },
   "file_extension": ".py",
   "mimetype": "text/x-python",
   "name": "python",
   "nbconvert_exporter": "python",
   "pygments_lexer": "ipython3",
   "version": "3.9.1"
  },
  "vscode": {
   "interpreter": {
    "hash": "26f7e70469da5e3ce07a97d6ca75097d36b53fe5b1e9c4596e3a33864f0ea1b0"
   }
  }
 },
 "nbformat": 4,
 "nbformat_minor": 5
}
